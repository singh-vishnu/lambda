{
  "nbformat": 4,
  "nbformat_minor": 0,
  "metadata": {
    "colab": {
      "provenance": []
    },
    "kernelspec": {
      "name": "python3",
      "display_name": "Python 3"
    },
    "language_info": {
      "name": "python"
    }
  },
  "cells": [
    {
      "cell_type": "code",
      "source": [
        "(lambda x,y,z: x+y-z)(10,20,30)"
      ],
      "metadata": {
        "colab": {
          "base_uri": "https://localhost:8080/"
        },
        "id": "BOKuNViN5n-S",
        "outputId": "bc0b8d9c-9b7f-4055-8ace-840a2a9079cd"
      },
      "execution_count": null,
      "outputs": [
        {
          "output_type": "execute_result",
          "data": {
            "text/plain": [
              "0"
            ]
          },
          "metadata": {},
          "execution_count": 23
        }
      ]
    },
    {
      "cell_type": "code",
      "source": [
        "a=list(range(10,45,3))\n",
        "print(a)"
      ],
      "metadata": {
        "colab": {
          "base_uri": "https://localhost:8080/"
        },
        "id": "4jxRqKW05n7G",
        "outputId": "5de7dc6f-aa32-43f6-fa7f-8f27d88116cc"
      },
      "execution_count": null,
      "outputs": [
        {
          "output_type": "stream",
          "name": "stdout",
          "text": [
            "[10, 13, 16, 19, 22, 25, 28, 31, 34, 37, 40, 43]\n"
          ]
        }
      ]
    },
    {
      "cell_type": "code",
      "source": [
        "# perform square on a\n",
        "map(lambda x: x**2,a)"
      ],
      "metadata": {
        "colab": {
          "base_uri": "https://localhost:8080/"
        },
        "id": "PKksMWGt5n35",
        "outputId": "54c3bb9d-6f3a-40c7-859c-c5e1b51cd8db"
      },
      "execution_count": null,
      "outputs": [
        {
          "output_type": "execute_result",
          "data": {
            "text/plain": [
              "<map at 0x7ae6bac1ac80>"
            ]
          },
          "metadata": {},
          "execution_count": 19
        }
      ]
    },
    {
      "cell_type": "code",
      "source": [
        "list(map(lambda x: x**2,a))"
      ],
      "metadata": {
        "colab": {
          "base_uri": "https://localhost:8080/"
        },
        "id": "DTfoEPw_5n1C",
        "outputId": "ca267066-8e36-4861-c08a-0720982cad10"
      },
      "execution_count": null,
      "outputs": [
        {
          "output_type": "execute_result",
          "data": {
            "text/plain": [
              "[100, 169, 256, 361, 484, 625, 784, 961, 1156, 1369, 1600, 1849]"
            ]
          },
          "metadata": {},
          "execution_count": 20
        }
      ]
    },
    {
      "cell_type": "code",
      "source": [
        "a='abcdefghiomnop'\n",
        "list(filter(lambda x:x in ['a','e','i','o','u'],a))"
      ],
      "metadata": {
        "colab": {
          "base_uri": "https://localhost:8080/"
        },
        "id": "hWKNIjTT5nx-",
        "outputId": "caac993d-0aa5-40a9-dffb-8059e2d99517"
      },
      "execution_count": null,
      "outputs": [
        {
          "output_type": "execute_result",
          "data": {
            "text/plain": [
              "['a', 'e', 'i', 'o', 'o']"
            ]
          },
          "metadata": {},
          "execution_count": 21
        }
      ]
    },
    {
      "cell_type": "code",
      "execution_count": null,
      "metadata": {
        "colab": {
          "base_uri": "https://localhost:8080/"
        },
        "id": "Iwwdb6F4gvw0",
        "outputId": "8ef14635-b8ab-4f4a-b5e9-371d5273be06"
      },
      "outputs": [
        {
          "output_type": "stream",
          "name": "stdout",
          "text": [
            "[2, 4, 6]\n"
          ]
        }
      ],
      "source": [
        "#filter out even no. from list of numbers\n",
        "numbers=[1,2,3,4,5,6]\n",
        "even_num=list(filter(lambda x:x%2==0,numbers))\n",
        "print(even_num)"
      ]
    },
    {
      "cell_type": "code",
      "source": [
        "munbers=[2,3,4,5]\n",
        "s=list((map(lambda x:x**2,numbers)))\n",
        "print(s)\n"
      ],
      "metadata": {
        "colab": {
          "base_uri": "https://localhost:8080/"
        },
        "id": "hpepyHnHpWkM",
        "outputId": "ecda6194-3278-4808-949e-dc0d46f6cbeb"
      },
      "execution_count": null,
      "outputs": [
        {
          "output_type": "stream",
          "name": "stdout",
          "text": [
            "[1, 4, 9, 16, 25, 36]\n"
          ]
        }
      ]
    },
    {
      "cell_type": "code",
      "source": [
        "name=['vishnu singh', 'komalsingh','anuj']\n",
        "length=lambda x: len(x)\n",
        "print(length(name))"
      ],
      "metadata": {
        "colab": {
          "base_uri": "https://localhost:8080/"
        },
        "id": "htr0g5KWqHRI",
        "outputId": "a0bb028e-ff21-44e5-ac62-7aafa8a7f4fb"
      },
      "execution_count": null,
      "outputs": [
        {
          "output_type": "stream",
          "name": "stdout",
          "text": [
            "3\n"
          ]
        }
      ]
    },
    {
      "cell_type": "code",
      "source": [
        "list(map(lambda x:len(x),name))"
      ],
      "metadata": {
        "colab": {
          "base_uri": "https://localhost:8080/"
        },
        "id": "hPophTIG9-9B",
        "outputId": "afdc86f5-8393-405b-9ac5-71b80aba79bc"
      },
      "execution_count": null,
      "outputs": [
        {
          "output_type": "execute_result",
          "data": {
            "text/plain": [
              "[12, 10, 4]"
            ]
          },
          "metadata": {},
          "execution_count": 24
        }
      ]
    },
    {
      "cell_type": "code",
      "source": [
        "sorted(name,key=lambda x:len(x))"
      ],
      "metadata": {
        "colab": {
          "base_uri": "https://localhost:8080/"
        },
        "id": "pKRzzeefq9X3",
        "outputId": "7ed2d35a-e321-4159-ade1-46f1e631086f"
      },
      "execution_count": null,
      "outputs": [
        {
          "output_type": "execute_result",
          "data": {
            "text/plain": [
              "['anuj', 'komalsingh', 'vishnu singh']"
            ]
          },
          "metadata": {},
          "execution_count": 4
        }
      ]
    },
    {
      "cell_type": "code",
      "source": [
        "people=[\n",
        "    {'name':'vishnu','age':31,'occupation':'sme'},\n",
        "    {'name':'anuj','age':27,'occupation':'teacher'},\n",
        "    {'namne':'vandana','age':32,\"occupation\":'student'}\n",
        "]"
      ],
      "metadata": {
        "id": "tdv_gGgUsBbx"
      },
      "execution_count": null,
      "outputs": []
    },
    {
      "cell_type": "code",
      "source": [
        "people"
      ],
      "metadata": {
        "colab": {
          "base_uri": "https://localhost:8080/"
        },
        "id": "nT7WANKrs8CF",
        "outputId": "6f32302d-884a-43c9-9a02-0d8a5d9638c2"
      },
      "execution_count": null,
      "outputs": [
        {
          "output_type": "execute_result",
          "data": {
            "text/plain": [
              "[{'name': 'vishnu', 'age': 31, 'occupation': 'sme'},\n",
              " {'name': 'anuj', 'age': 27, 'occupation': 'teacher'},\n",
              " {'namne': 'vandana', 'age': 32, 'occupation': 'student'}]"
            ]
          },
          "metadata": {},
          "execution_count": 6
        }
      ]
    },
    {
      "cell_type": "code",
      "source": [
        "sorted(people,key=lambda x:x['age'])"
      ],
      "metadata": {
        "colab": {
          "base_uri": "https://localhost:8080/"
        },
        "id": "n8-0PAjhs9g2",
        "outputId": "5e203547-b552-4fa3-d2c9-57260120883d"
      },
      "execution_count": null,
      "outputs": [
        {
          "output_type": "execute_result",
          "data": {
            "text/plain": [
              "[{'name': 'anuj', 'age': 27, 'occupation': 'teacher'},\n",
              " {'name': 'vishnu', 'age': 31, 'occupation': 'sme'},\n",
              " {'namne': 'vandana', 'age': 32, 'occupation': 'student'}]"
            ]
          },
          "metadata": {},
          "execution_count": 7
        }
      ]
    },
    {
      "cell_type": "code",
      "source": [
        "sorted(people,key=lambda x:x['occupation'])"
      ],
      "metadata": {
        "colab": {
          "base_uri": "https://localhost:8080/"
        },
        "id": "0LtAq-B7tfC7",
        "outputId": "601b271e-04ef-405b-985a-a702991d35f7"
      },
      "execution_count": null,
      "outputs": [
        {
          "output_type": "execute_result",
          "data": {
            "text/plain": [
              "[{'name': 'vishnu', 'age': 31, 'occupation': 'sme'},\n",
              " {'namne': 'vandana', 'age': 32, 'occupation': 'student'},\n",
              " {'name': 'anuj', 'age': 27, 'occupation': 'teacher'}]"
            ]
          },
          "metadata": {},
          "execution_count": 8
        }
      ]
    },
    {
      "cell_type": "code",
      "source": [
        "sorted(people,key=lambda x: x['age'])"
      ],
      "metadata": {
        "colab": {
          "base_uri": "https://localhost:8080/"
        },
        "id": "iO4sxeaKtss_",
        "outputId": "4d90d409-92f3-421b-c0b0-03d9deb8fe11"
      },
      "execution_count": null,
      "outputs": [
        {
          "output_type": "execute_result",
          "data": {
            "text/plain": [
              "[{'name': 'anuj', 'age': 27, 'occupation': 'teacher'},\n",
              " {'name': 'vishnu', 'age': 31, 'occupation': 'sme'},\n",
              " {'namne': 'vandana', 'age': 32, 'occupation': 'student'}]"
            ]
          },
          "metadata": {},
          "execution_count": 12
        }
      ]
    },
    {
      "cell_type": "code",
      "source": [
        "data={'a':10,'b':20,'c':14,'d':40}\n",
        "max(data,key=lambda x:data[x])"
      ],
      "metadata": {
        "colab": {
          "base_uri": "https://localhost:8080/",
          "height": 36
        },
        "id": "udTO9FqCt2Am",
        "outputId": "5470cf55-8ebd-4ee0-e331-3b350717166b"
      },
      "execution_count": null,
      "outputs": [
        {
          "output_type": "execute_result",
          "data": {
            "text/plain": [
              "'d'"
            ],
            "application/vnd.google.colaboratory.intrinsic+json": {
              "type": "string"
            }
          },
          "metadata": {},
          "execution_count": 15
        }
      ]
    },
    {
      "cell_type": "code",
      "source": [],
      "metadata": {
        "id": "wBw4DhyPu3or"
      },
      "execution_count": null,
      "outputs": []
    }
  ]
}